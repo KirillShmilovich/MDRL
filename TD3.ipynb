{
 "cells": [
  {
   "cell_type": "code",
   "execution_count": 1,
   "metadata": {
    "ExecuteTime": {
     "end_time": "2020-06-03T23:39:44.241247Z",
     "start_time": "2020-06-03T23:39:43.106915Z"
    }
   },
   "outputs": [],
   "source": [
    "import gym\n",
    "import numpy as np\n",
    "\n",
    "from stable_baselines3 import TD3\n",
    "from stable_baselines3.td3.policies import MlpPolicy\n",
    "from stable_baselines3.common.noise import NormalActionNoise, OrnsteinUhlenbeckActionNoise\n",
    "from enviroment import SimEnv\n",
    "import torch"
   ]
  },
  {
   "cell_type": "code",
   "execution_count": 2,
   "metadata": {
    "ExecuteTime": {
     "end_time": "2020-06-03T23:39:44.561924Z",
     "start_time": "2020-06-03T23:39:44.243188Z"
    }
   },
   "outputs": [],
   "source": [
    "env = SimEnv()"
   ]
  },
  {
   "cell_type": "code",
   "execution_count": 3,
   "metadata": {
    "ExecuteTime": {
     "end_time": "2020-06-03T23:39:44.568130Z",
     "start_time": "2020-06-03T23:39:44.564299Z"
    }
   },
   "outputs": [],
   "source": [
    "n_actions = env.action_space.shape[-1]\n",
    "action_noise = NormalActionNoise(mean=np.zeros(n_actions), sigma=0.1 * np.ones(n_actions))"
   ]
  },
  {
   "cell_type": "code",
   "execution_count": 4,
   "metadata": {
    "ExecuteTime": {
     "end_time": "2020-06-03T23:39:45.908571Z",
     "start_time": "2020-06-03T23:39:44.577173Z"
    }
   },
   "outputs": [
    {
     "name": "stdout",
     "output_type": "stream",
     "text": [
      "Using cuda device\n",
      "Wrapping the env in a DummyVecEnv.\n"
     ]
    }
   ],
   "source": [
    "model = TD3(MlpPolicy,\n",
    "            env,\n",
    "            buffer_size=10000,\n",
    "            batch_size=128,\n",
    "            action_noise=action_noise,\n",
    "            verbose=2)"
   ]
  },
  {
   "cell_type": "code",
   "execution_count": 5,
   "metadata": {
    "ExecuteTime": {
     "end_time": "2020-06-03T23:39:45.911867Z",
     "start_time": "2020-06-03T23:39:45.909868Z"
    }
   },
   "outputs": [],
   "source": [
    "episode_duration = 1000\n",
    "n_episodes = 10"
   ]
  },
  {
   "cell_type": "code",
   "execution_count": null,
   "metadata": {
    "ExecuteTime": {
     "start_time": "2020-06-03T23:39:46.043Z"
    }
   },
   "outputs": [],
   "source": [
    "model.learn(total_timesteps=episode_duration*n_episodes, \n",
    "            log_interval=10)"
   ]
  },
  {
   "cell_type": "code",
   "execution_count": null,
   "metadata": {
    "ExecuteTime": {
     "start_time": "2020-06-03T23:39:47.453Z"
    }
   },
   "outputs": [],
   "source": [
    "model.save(\"LJ\")"
   ]
  },
  {
   "cell_type": "code",
   "execution_count": null,
   "metadata": {},
   "outputs": [],
   "source": []
  }
 ],
 "metadata": {
  "kernelspec": {
   "display_name": "Python 3",
   "language": "python",
   "name": "python3"
  },
  "language_info": {
   "codemirror_mode": {
    "name": "ipython",
    "version": 3
   },
   "file_extension": ".py",
   "mimetype": "text/x-python",
   "name": "python",
   "nbconvert_exporter": "python",
   "pygments_lexer": "ipython3",
   "version": "3.7.3"
  }
 },
 "nbformat": 4,
 "nbformat_minor": 4
}
