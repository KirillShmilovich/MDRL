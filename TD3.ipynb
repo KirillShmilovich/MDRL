{
 "cells": [
  {
   "cell_type": "code",
   "execution_count": 1,
   "metadata": {
    "ExecuteTime": {
     "end_time": "2020-06-04T21:40:26.879643Z",
     "start_time": "2020-06-04T21:40:25.730020Z"
    }
   },
   "outputs": [],
   "source": [
    "import gym\n",
    "import numpy as np\n",
    "\n",
    "from stable_baselines3 import TD3\n",
    "from stable_baselines3.td3.policies import MlpPolicy\n",
    "from stable_baselines3.common.noise import NormalActionNoise, OrnsteinUhlenbeckActionNoise\n",
    "from stable_baselines3.common.callbacks import BaseCallback\n",
    "from enviroment import SimEnv\n",
    "import torch"
   ]
  },
  {
   "cell_type": "code",
   "execution_count": 2,
   "metadata": {
    "ExecuteTime": {
     "end_time": "2020-06-04T21:40:26.891894Z",
     "start_time": "2020-06-04T21:40:26.882185Z"
    }
   },
   "outputs": [],
   "source": [
    "class CustomCallback(BaseCallback):\n",
    "    \"\"\"\n",
    "    A custom callback that derives from ``BaseCallback``.\n",
    "\n",
    "    :param verbose: (int) Verbosity level 0: not output 1: info 2: debug\n",
    "    \"\"\"\n",
    "    def __init__(self, print_interval=25, verbose=0):\n",
    "        super(CustomCallback, self).__init__(verbose)\n",
    "        # Those variables will be accessible in the callback\n",
    "        # (they are defined in the base class)\n",
    "        # The RL model\n",
    "        # self.model = None  # type: BaseRLModel\n",
    "        # An alias for self.model.get_env(), the environment used for training\n",
    "        # self.training_env = None  # type: Union[gym.Env, VecEnv, None]\n",
    "        # Number of time the callback was called\n",
    "        # self.n_calls = 0  # type: int\n",
    "        # self.num_timesteps = 0  # type: int\n",
    "        # local and global variables\n",
    "        # self.locals = None  # type: Dict[str, Any]\n",
    "        # self.globals = None  # type: Dict[str, Any]\n",
    "        # The logger object, used to report things in the terminal\n",
    "        # self.logger = None  # stable_baselines3.common.logger\n",
    "        # # Sometimes, for event callback, it is useful\n",
    "        # # to have access to the parent object\n",
    "        # self.parent = None  # type: Optional[BaseCallback]\n",
    "        self.print_interval = print_interval\n",
    "\n",
    "    def _on_training_start(self) -> None:\n",
    "        \"\"\"\n",
    "        This method is called before the first rollout starts.\n",
    "        \"\"\"\n",
    "        pass\n",
    "\n",
    "    def _on_rollout_start(self) -> None:\n",
    "        temp = self.model.env.envs[0].sim.temperature\n",
    "        print(f'Step #{self.num_timesteps} | Initial temp:{temp}')\n",
    "        \"\"\"\n",
    "        A rollout is the collection of environment interaction\n",
    "        using the current policy.\n",
    "        This event is triggered before collecting new samples.\n",
    "        \"\"\"\n",
    "        pass\n",
    "\n",
    "    def _on_step(self) -> bool:\n",
    "        \"\"\"\n",
    "        This method will be called by the model after each call to `env.step()`.\n",
    "\n",
    "        For child callback (of an `EventCallback`), this will be called\n",
    "        when the event is triggered.\n",
    "\n",
    "        :return: (bool) If the callback returns False, training is aborted early.\n",
    "        \"\"\"\n",
    "        if self.num_timesteps % self.print_interval == 0:\n",
    "            info_dict = self.model.env.envs[0].info_dict\n",
    "            val_str = ''.join(f'{k}:{v} | ' for k, v in info_dict.items())\n",
    "            print(f'Step #{self.num_timesteps} | {val_str}')\n",
    "        return True\n",
    "\n",
    "    def _on_rollout_end(self) -> None:\n",
    "        \"\"\"\n",
    "        This event is triggered before updating the policy.\n",
    "        \"\"\"\n",
    "        pass\n",
    "\n",
    "    def _on_training_end(self) -> None:\n",
    "        \"\"\"\n",
    "        This event is triggered before exiting the `learn()` method.\n",
    "        \"\"\"\n",
    "        pass\n"
   ]
  },
  {
   "cell_type": "code",
   "execution_count": 3,
   "metadata": {
    "ExecuteTime": {
     "end_time": "2020-06-04T21:40:27.100179Z",
     "start_time": "2020-06-04T21:40:26.893058Z"
    }
   },
   "outputs": [],
   "source": [
    "env = SimEnv()"
   ]
  },
  {
   "cell_type": "code",
   "execution_count": 4,
   "metadata": {
    "ExecuteTime": {
     "end_time": "2020-06-04T21:40:27.103459Z",
     "start_time": "2020-06-04T21:40:27.101617Z"
    }
   },
   "outputs": [],
   "source": [
    "callback = CustomCallback()"
   ]
  },
  {
   "cell_type": "code",
   "execution_count": 5,
   "metadata": {
    "ExecuteTime": {
     "end_time": "2020-06-04T21:40:27.112035Z",
     "start_time": "2020-06-04T21:40:27.104474Z"
    }
   },
   "outputs": [],
   "source": [
    "n_actions = env.action_space.shape[-1]\n",
    "#action_noise = NormalActionNoise(mean=np.zeros(n_actions), sigma=0.1 * np.ones(n_actions))\n",
    "action_noise = OrnsteinUhlenbeckActionNoise(mean=np.zeros(n_actions), sigma=float(0.5) * np.ones(n_actions))"
   ]
  },
  {
   "cell_type": "code",
   "execution_count": 6,
   "metadata": {
    "ExecuteTime": {
     "end_time": "2020-06-04T21:40:28.514768Z",
     "start_time": "2020-06-04T21:40:27.113836Z"
    }
   },
   "outputs": [
    {
     "name": "stdout",
     "output_type": "stream",
     "text": [
      "Using cuda device\n",
      "Wrapping the env in a DummyVecEnv.\n"
     ]
    }
   ],
   "source": [
    "model = TD3(MlpPolicy,\n",
    "            env,\n",
    "            action_noise=action_noise,\n",
    "            verbose=2)"
   ]
  },
  {
   "cell_type": "code",
   "execution_count": 7,
   "metadata": {
    "ExecuteTime": {
     "end_time": "2020-06-04T21:40:28.517934Z",
     "start_time": "2020-06-04T21:40:28.516078Z"
    }
   },
   "outputs": [],
   "source": [
    "episode_duration = 1000\n",
    "n_episodes = 80"
   ]
  },
  {
   "cell_type": "code",
   "execution_count": null,
   "metadata": {
    "ExecuteTime": {
     "start_time": "2020-06-04T21:40:25.749Z"
    }
   },
   "outputs": [
    {
     "name": "stdout",
     "output_type": "stream",
     "text": [
      "Step #0 | Initial temp:180.99501061010017 K\n",
      "Step #25 | n_clusters:90 | temperature:166.5380776318866 K | reward:-12.25 | \n",
      "Step #50 | n_clusters:88 | temperature:142.84423931352123 K | reward:-11.560000000000002 | \n",
      "Step #75 | n_clusters:78 | temperature:73.25640405662838 K | reward:-8.41 | \n",
      "Step #100 | n_clusters:31 | temperature:10.0584330560435 K | reward:-0.30250000000000005 | \n",
      "Step #125 | n_clusters:20 | temperature:1 K | reward:-0.0 | \n",
      "Step #150 | n_clusters:15 | temperature:1 K | reward:-0.0625 | \n",
      "Step #175 | n_clusters:13 | temperature:1 K | reward:-0.12249999999999998 | \n",
      "Step #200 | n_clusters:12 | temperature:1 K | reward:-0.16000000000000003 | \n",
      "Step #225 | n_clusters:11 | temperature:1 K | reward:-0.20249999999999996 | \n",
      "Step #250 | n_clusters:11 | temperature:1 K | reward:-0.20249999999999996 | \n",
      "Step #275 | n_clusters:11 | temperature:1 K | reward:-0.20249999999999996 | \n",
      "Step #300 | n_clusters:11 | temperature:1 K | reward:-0.20249999999999996 | \n",
      "Step #325 | n_clusters:11 | temperature:1 K | reward:-0.20249999999999996 | \n",
      "Step #350 | n_clusters:11 | temperature:1 K | reward:-0.20249999999999996 | \n",
      "Step #375 | n_clusters:12 | temperature:1 K | reward:-0.16000000000000003 | \n",
      "Step #400 | n_clusters:11 | temperature:1 K | reward:-0.20249999999999996 | \n",
      "Step #425 | n_clusters:11 | temperature:1 K | reward:-0.20249999999999996 | \n",
      "Step #450 | n_clusters:10 | temperature:1 K | reward:-0.25 | \n",
      "Step #475 | n_clusters:10 | temperature:1 K | reward:-0.25 | \n",
      "Step #500 | n_clusters:10 | temperature:1 K | reward:-0.25 | \n",
      "Step #525 | n_clusters:10 | temperature:1 K | reward:-0.25 | \n",
      "Step #550 | n_clusters:10 | temperature:1 K | reward:-0.25 | \n",
      "Step #575 | n_clusters:10 | temperature:1 K | reward:-0.25 | \n",
      "Step #600 | n_clusters:26 | temperature:45.298442138865724 K | reward:-0.09000000000000002 | \n",
      "Step #625 | n_clusters:58 | temperature:123.36259492205313 K | reward:-3.61 | \n",
      "Step #650 | n_clusters:93 | temperature:212.78048976661213 K | reward:-13.322500000000003 | \n",
      "Step #675 | n_clusters:90 | temperature:302.1760852659479 K | reward:-12.25 | \n",
      "Step #700 | n_clusters:90 | temperature:380.1146512801249 K | reward:-12.25 | \n",
      "Step #725 | n_clusters:92 | temperature:452.1536005025838 K | reward:-12.959999999999997 | \n",
      "Step #750 | n_clusters:97 | temperature:500 K | reward:-14.822499999999998 | \n",
      "Step #775 | n_clusters:93 | temperature:500 K | reward:-13.322500000000003 | \n",
      "Step #800 | n_clusters:92 | temperature:500 K | reward:-12.959999999999997 | \n",
      "Step #825 | n_clusters:92 | temperature:500 K | reward:-12.959999999999997 | \n",
      "Step #850 | n_clusters:91 | temperature:500 K | reward:-12.6025 | \n",
      "Step #875 | n_clusters:91 | temperature:500 K | reward:-12.6025 | \n",
      "Step #900 | n_clusters:93 | temperature:500 K | reward:-13.322500000000003 | \n",
      "Step #925 | n_clusters:95 | temperature:475.45921690239214 K | reward:-14.0625 | \n",
      "Step #950 | n_clusters:94 | temperature:462.24796617583934 K | reward:-13.690000000000001 | \n",
      "Step #975 | n_clusters:96 | temperature:441.6356111022143 K | reward:-14.44 | \n",
      "Step #1000 | n_clusters:95 | temperature:429.21935842578216 K | reward:-14.0625 | \n",
      "-----------------------------\n",
      "| time/              |      |\n",
      "|    episodes        | 1    |\n",
      "|    fps             | 4    |\n",
      "|    time_elapsed    | 220  |\n",
      "|    total timesteps | 1000 |\n",
      "-----------------------------\n",
      "Step #1000 | Initial temp:329.5396145924794 K\n",
      "Step #1025 | n_clusters:96 | temperature:205.13808889660282 K | reward:-14.44 | \n",
      "Step #1050 | n_clusters:87 | temperature:84.20723046293739 K | reward:-11.222499999999998 | \n",
      "Step #1075 | n_clusters:37 | temperature:1 K | reward:-0.7225000000000001 | \n",
      "Step #1100 | n_clusters:27 | temperature:1 K | reward:-0.12250000000000007 | \n",
      "Step #1125 | n_clusters:23 | temperature:1 K | reward:-0.022499999999999975 | \n",
      "Step #1150 | n_clusters:17 | temperature:1 K | reward:-0.022500000000000006 | \n",
      "Step #1175 | n_clusters:17 | temperature:1 K | reward:-0.022500000000000006 | \n",
      "Step #1200 | n_clusters:16 | temperature:1 K | reward:-0.03999999999999998 | \n",
      "Step #1225 | n_clusters:13 | temperature:1 K | reward:-0.12249999999999998 | \n",
      "Step #1250 | n_clusters:13 | temperature:1 K | reward:-0.12249999999999998 | \n",
      "Step #1275 | n_clusters:13 | temperature:1 K | reward:-0.12249999999999998 | \n",
      "Step #1300 | n_clusters:12 | temperature:1 K | reward:-0.16000000000000003 | \n",
      "Step #1325 | n_clusters:12 | temperature:1 K | reward:-0.16000000000000003 | \n",
      "Step #1350 | n_clusters:11 | temperature:1 K | reward:-0.20249999999999996 | \n",
      "Step #1375 | n_clusters:11 | temperature:1 K | reward:-0.20249999999999996 | \n",
      "Step #1400 | n_clusters:11 | temperature:1 K | reward:-0.20249999999999996 | \n",
      "Step #1425 | n_clusters:9 | temperature:1 K | reward:-0.30250000000000005 | \n",
      "Step #1450 | n_clusters:9 | temperature:1 K | reward:-0.30250000000000005 | \n",
      "Step #1475 | n_clusters:9 | temperature:1 K | reward:-0.30250000000000005 | \n",
      "Step #1500 | n_clusters:8 | temperature:1 K | reward:-0.36 | \n",
      "Step #1525 | n_clusters:7 | temperature:1 K | reward:-0.42250000000000004 | \n",
      "Step #1550 | n_clusters:7 | temperature:1 K | reward:-0.42250000000000004 | \n",
      "Step #1575 | n_clusters:7 | temperature:1 K | reward:-0.42250000000000004 | \n",
      "Step #1600 | n_clusters:7 | temperature:1 K | reward:-0.42250000000000004 | \n",
      "Step #1625 | n_clusters:7 | temperature:1 K | reward:-0.42250000000000004 | \n",
      "Step #1650 | n_clusters:7 | temperature:1 K | reward:-0.42250000000000004 | \n",
      "Step #1675 | n_clusters:7 | temperature:1 K | reward:-0.42250000000000004 | \n",
      "Step #1700 | n_clusters:7 | temperature:1 K | reward:-0.42250000000000004 | \n",
      "Step #1725 | n_clusters:7 | temperature:1 K | reward:-0.42250000000000004 | \n",
      "Step #1750 | n_clusters:7 | temperature:1 K | reward:-0.42250000000000004 | \n",
      "Step #1775 | n_clusters:7 | temperature:1 K | reward:-0.42250000000000004 | \n",
      "Step #1800 | n_clusters:7 | temperature:1 K | reward:-0.42250000000000004 | \n",
      "Step #1825 | n_clusters:7 | temperature:1 K | reward:-0.42250000000000004 | \n",
      "Step #1850 | n_clusters:7 | temperature:1 K | reward:-0.42250000000000004 | \n",
      "Step #1875 | n_clusters:7 | temperature:1 K | reward:-0.42250000000000004 | \n",
      "Step #1900 | n_clusters:7 | temperature:1 K | reward:-0.42250000000000004 | \n",
      "Step #1925 | n_clusters:7 | temperature:1 K | reward:-0.42250000000000004 | \n",
      "Step #1950 | n_clusters:7 | temperature:1 K | reward:-0.42250000000000004 | \n",
      "Step #1975 | n_clusters:7 | temperature:1 K | reward:-0.42250000000000004 | \n",
      "Step #2000 | n_clusters:7 | temperature:1 K | reward:-0.42250000000000004 | \n",
      "---------------------------------\n",
      "| time/              |          |\n",
      "|    episodes        | 2        |\n",
      "|    fps             | 4        |\n",
      "|    time_elapsed    | 448      |\n",
      "|    total timesteps | 2000     |\n",
      "| train/             |          |\n",
      "|    learning_rate   | 0.001    |\n",
      "|    n_updates       | 1000     |\n",
      "---------------------------------\n",
      "Step #2000 | Initial temp:395.5643498669471 K\n",
      "Step #2025 | n_clusters:88 | temperature:279.405625442865 K | reward:-11.560000000000002 | \n",
      "Step #2050 | n_clusters:88 | temperature:193.14684823070843 K | reward:-11.560000000000002 | \n",
      "Step #2075 | n_clusters:88 | temperature:107.74445040245799 K | reward:-11.560000000000002 | \n",
      "Step #2100 | n_clusters:38 | temperature:1 K | reward:-0.8099999999999998 | \n",
      "Step #2125 | n_clusters:22 | temperature:1 K | reward:-0.010000000000000018 | \n",
      "Step #2150 | n_clusters:23 | temperature:1 K | reward:-0.022499999999999975 | \n",
      "Step #2175 | n_clusters:19 | temperature:1 K | reward:-0.0025000000000000044 | \n",
      "Step #2200 | n_clusters:16 | temperature:1 K | reward:-0.03999999999999998 | \n",
      "Step #2225 | n_clusters:14 | temperature:1 K | reward:-0.09000000000000002 | \n",
      "Step #2250 | n_clusters:13 | temperature:1 K | reward:-0.12249999999999998 | \n",
      "Step #2275 | n_clusters:13 | temperature:1 K | reward:-0.12249999999999998 | \n",
      "Step #2300 | n_clusters:12 | temperature:1 K | reward:-0.16000000000000003 | \n",
      "Step #2325 | n_clusters:12 | temperature:1 K | reward:-0.16000000000000003 | \n",
      "Step #2350 | n_clusters:12 | temperature:1 K | reward:-0.16000000000000003 | \n",
      "Step #2375 | n_clusters:12 | temperature:1 K | reward:-0.16000000000000003 | \n",
      "Step #2400 | n_clusters:12 | temperature:1 K | reward:-0.16000000000000003 | \n"
     ]
    }
   ],
   "source": [
    "model.learn(total_timesteps=episode_duration*n_episodes,\n",
    "            callback=callback,\n",
    "            log_interval=1)"
   ]
  },
  {
   "cell_type": "code",
   "execution_count": null,
   "metadata": {
    "ExecuteTime": {
     "start_time": "2020-06-04T21:40:25.751Z"
    }
   },
   "outputs": [],
   "source": [
    "model.save(\"LJ_long\")"
   ]
  },
  {
   "cell_type": "code",
   "execution_count": null,
   "metadata": {},
   "outputs": [],
   "source": []
  }
 ],
 "metadata": {
  "kernelspec": {
   "display_name": "Python 3",
   "language": "python",
   "name": "python3"
  },
  "language_info": {
   "codemirror_mode": {
    "name": "ipython",
    "version": 3
   },
   "file_extension": ".py",
   "mimetype": "text/x-python",
   "name": "python",
   "nbconvert_exporter": "python",
   "pygments_lexer": "ipython3",
   "version": "3.7.3"
  }
 },
 "nbformat": 4,
 "nbformat_minor": 4
}
